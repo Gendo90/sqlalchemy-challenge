{
 "cells": [
  {
   "cell_type": "code",
   "execution_count": 2,
   "metadata": {},
   "outputs": [],
   "source": [
    "%matplotlib inline\n",
    "from matplotlib import style\n",
    "style.use('fivethirtyeight')\n",
    "import matplotlib.pyplot as plt\n",
    "import matplotlib.dates as mdates"
   ]
  },
  {
   "cell_type": "code",
   "execution_count": 3,
   "metadata": {},
   "outputs": [],
   "source": [
    "import numpy as np\n",
    "import pandas as pd"
   ]
  },
  {
   "cell_type": "code",
   "execution_count": 4,
   "metadata": {},
   "outputs": [],
   "source": [
    "import datetime as dt"
   ]
  },
  {
   "cell_type": "markdown",
   "metadata": {},
   "source": [
    "### Vacation Dates\n",
    "* The vacation will run from February 12-15 for a four-day long weekend over the President's day holiday in 2021"
   ]
  },
  {
   "cell_type": "markdown",
   "metadata": {},
   "source": [
    "# Reflect Tables into SQLAlchemy ORM"
   ]
  },
  {
   "cell_type": "code",
   "execution_count": 5,
   "metadata": {},
   "outputs": [],
   "source": [
    "# Python SQL toolkit and Object Relational Mapper\n",
    "import sqlalchemy\n",
    "from sqlalchemy.ext.automap import automap_base\n",
    "from sqlalchemy.orm import Session\n",
    "from sqlalchemy import create_engine, func"
   ]
  },
  {
   "cell_type": "code",
   "execution_count": 6,
   "metadata": {},
   "outputs": [],
   "source": [
    "engine = create_engine(\"sqlite:///Resources/hawaii.sqlite\")"
   ]
  },
  {
   "cell_type": "code",
   "execution_count": 7,
   "metadata": {},
   "outputs": [],
   "source": [
    "# reflect an existing database into a new model\n",
    "Base = automap_base()\n",
    "\n",
    "# reflect the tables\n",
    "Base.prepare(engine, reflect=True)"
   ]
  },
  {
   "cell_type": "code",
   "execution_count": 8,
   "metadata": {},
   "outputs": [
    {
     "data": {
      "text/plain": [
       "['measurement', 'station']"
      ]
     },
     "execution_count": 8,
     "metadata": {},
     "output_type": "execute_result"
    }
   ],
   "source": [
    "# We can view all of the classes that automap found\n",
    "Base.classes.keys()"
   ]
  },
  {
   "cell_type": "code",
   "execution_count": 9,
   "metadata": {},
   "outputs": [],
   "source": [
    "# Save references to each table\n",
    "Measurement = Base.classes.measurement\n",
    "Station = Base.classes.station"
   ]
  },
  {
   "cell_type": "code",
   "execution_count": 10,
   "metadata": {},
   "outputs": [],
   "source": [
    "# Create our session (link) from Python to the DB\n",
    "session = Session(engine)"
   ]
  },
  {
   "cell_type": "markdown",
   "metadata": {},
   "source": [
    "# Exploratory Climate Analysis"
   ]
  },
  {
   "cell_type": "code",
   "execution_count": 11,
   "metadata": {},
   "outputs": [
    {
     "name": "stdout",
     "output_type": "stream",
     "text": [
      "{'_sa_instance_state': <sqlalchemy.orm.state.InstanceState object at 0x0000017709D1FA88>, 'prcp': 0.08, 'station': 'USC00519397', 'date': '2010-01-01', 'id': 1, 'tobs': 65.0}\n",
      "{'_sa_instance_state': <sqlalchemy.orm.state.InstanceState object at 0x0000017709D38788>, 'name': 'WAIKIKI 717.2, HI US', 'longitude': -157.8168, 'id': 1, 'station': 'USC00519397', 'latitude': 21.2716, 'elevation': 3.0}\n"
     ]
    }
   ],
   "source": [
    "# determine the columns for each table in database\n",
    "\n",
    "# first, get the measurement columns\n",
    "measurement_example = session.query(Measurement).first()\n",
    "print(measurement_example.__dict__)\n",
    "\n",
    "# next, get the station columns\n",
    "station_example = session.query(Station).first()\n",
    "print(station_example.__dict__)"
   ]
  },
  {
   "cell_type": "code",
   "execution_count": 12,
   "metadata": {},
   "outputs": [
    {
     "name": "stdout",
     "output_type": "stream",
     "text": [
      "('2010-01-01',)\n",
      "('2017-08-23',)\n",
      "The date one year before the final date is 2016-08-23 according the results of the query.\n"
     ]
    },
    {
     "data": {
      "text/html": [
       "<div>\n",
       "<style scoped>\n",
       "    .dataframe tbody tr th:only-of-type {\n",
       "        vertical-align: middle;\n",
       "    }\n",
       "\n",
       "    .dataframe tbody tr th {\n",
       "        vertical-align: top;\n",
       "    }\n",
       "\n",
       "    .dataframe thead th {\n",
       "        text-align: right;\n",
       "    }\n",
       "</style>\n",
       "<table border=\"1\" class=\"dataframe\">\n",
       "  <thead>\n",
       "    <tr style=\"text-align: right;\">\n",
       "      <th></th>\n",
       "      <th>prcp</th>\n",
       "    </tr>\n",
       "    <tr>\n",
       "      <th>date</th>\n",
       "      <th></th>\n",
       "    </tr>\n",
       "  </thead>\n",
       "  <tbody>\n",
       "    <tr>\n",
       "      <th>2016-08-23</th>\n",
       "      <td>1.79</td>\n",
       "    </tr>\n",
       "    <tr>\n",
       "      <th>2016-08-24</th>\n",
       "      <td>2.28</td>\n",
       "    </tr>\n",
       "    <tr>\n",
       "      <th>2016-08-25</th>\n",
       "      <td>0.21</td>\n",
       "    </tr>\n",
       "    <tr>\n",
       "      <th>2016-08-26</th>\n",
       "      <td>0.04</td>\n",
       "    </tr>\n",
       "    <tr>\n",
       "      <th>2016-08-27</th>\n",
       "      <td>0.18</td>\n",
       "    </tr>\n",
       "    <tr>\n",
       "      <th>...</th>\n",
       "      <td>...</td>\n",
       "    </tr>\n",
       "    <tr>\n",
       "      <th>2017-08-19</th>\n",
       "      <td>0.09</td>\n",
       "    </tr>\n",
       "    <tr>\n",
       "      <th>2017-08-20</th>\n",
       "      <td>0.01</td>\n",
       "    </tr>\n",
       "    <tr>\n",
       "      <th>2017-08-21</th>\n",
       "      <td>0.56</td>\n",
       "    </tr>\n",
       "    <tr>\n",
       "      <th>2017-08-22</th>\n",
       "      <td>0.50</td>\n",
       "    </tr>\n",
       "    <tr>\n",
       "      <th>2017-08-23</th>\n",
       "      <td>0.45</td>\n",
       "    </tr>\n",
       "  </tbody>\n",
       "</table>\n",
       "<p>366 rows × 1 columns</p>\n",
       "</div>"
      ],
      "text/plain": [
       "            prcp\n",
       "date            \n",
       "2016-08-23  1.79\n",
       "2016-08-24  2.28\n",
       "2016-08-25  0.21\n",
       "2016-08-26  0.04\n",
       "2016-08-27  0.18\n",
       "...          ...\n",
       "2017-08-19  0.09\n",
       "2017-08-20  0.01\n",
       "2017-08-21  0.56\n",
       "2017-08-22  0.50\n",
       "2017-08-23  0.45\n",
       "\n",
       "[366 rows x 1 columns]"
      ]
     },
     "execution_count": 12,
     "metadata": {},
     "output_type": "execute_result"
    },
    {
     "data": {
      "image/png": "[encoded data removed]",
      "text/plain": [
       "<Figure size 432x288 with 1 Axes>"
      ]
     },
     "metadata": {},
     "output_type": "display_data"
    }
   ],
   "source": [
    "# Design a query to retrieve the last 12 months of precipitation data and plot the results\n",
    "\n",
    "# Calculate the date 1 year ago from the last data point in the database\n",
    "final_date = session.query(Measurement.date).order_by(Measurement.date.desc())[0]\n",
    "first_date = session.query(Measurement.date).order_by(Measurement.date.desc())[-1]\n",
    "print(first_date)\n",
    "print(final_date)\n",
    "print(\"The date one year before the final date is 2016-08-23 according the results of the query.\")\n",
    "\n",
    "# Perform a query to retrieve the data and precipitation scores\n",
    "last_year_precipitation = session.query(Measurement.date, Measurement.prcp).filter(Measurement.date >= '2016-08-23').all()\n",
    "\n",
    "# Save the query results as a Pandas DataFrame and set the index to the date column\n",
    "# Since there are 2230 values and only 365 dates, we need to aggregate the precipitation\n",
    "# values to a measure of center, so we will drop all null values and then get the \n",
    "# average precipitation for each date, since it is usually measured by multiple stations\n",
    "\n",
    "# store in a dataframe\n",
    "last_year_precipitation_df = pd.DataFrame(last_year_precipitation)\n",
    "\n",
    "# clean data by dropping null values\n",
    "last_year_precipitation_df = last_year_precipitation_df.dropna()\n",
    "\n",
    "# now change the \"date\" column to the dateteme data type \n",
    "last_year_precipitation_df.date = pd.to_datetime(last_year_precipitation_df.date)\n",
    "\n",
    "# then group by the date and get the maximum value, which also sets the \"date\"\n",
    "# column to the index\n",
    "max_precipitation_df = last_year_precipitation_df.groupby(\"date\").max()\n",
    "\n",
    "# Sort the dataframe by date - should already be sorted, but just double-check\n",
    "max_precipitation_df = max_precipitation_df.sort_values(by = \"date\")\n",
    "\n",
    "\n",
    "# Use Pandas Plotting with Matplotlib to plot the data\n",
    "# max_precipitation_df_plot = max_precipitation_df.copy()\n",
    "# max_precipitation_df_plot.index = mdates.date2num(max_precipitation_df_plot.index)\n",
    "# print(max_precipitation_df_plot)\n",
    "#first, try to get months index value and put them in the x-ticks list\n",
    "month_index_values = []\n",
    "month_values = []\n",
    "for i, date in enumerate(max_precipitation_df.index):\n",
    "    if(date.day == max_precipitation_df.index[0].day):\n",
    "        month_index_values.append(i)\n",
    "        month_values.append(date)\n",
    "        \n",
    "#copy of month_values to be used for the tick locations after the first list is expended for the xtick labels\n",
    "month_values2 = month_values[:]\n",
    "\n",
    "precip_axes = max_precipitation_df.plot(kind=\"bar\", y=\"prcp\", width=1, title=\"Maximum Precipitation (in) vs. Date\", legend=False)\n",
    "\n",
    "precip_axes.xaxis.minorTicks = precip_axes.xaxis.majorTicks\n",
    "precip_axes.set_xticklabels([month_values.pop(0).strftime(\"%Y-%m-%d\") for i in range(len(max_precipitation_df.index)) if(i in month_index_values)],\n",
    "                            rotation=40, ha=\"right\")\n",
    "\n",
    "\n",
    "# print(plt.axis()) - used to determine the units for the x-axis, since datetime could not be compared to float!\n",
    "precip_axes.set_xticks([(month_values2.pop(0)-max_precipitation_df.index[0]).days for i in range(len(max_precipitation_df.index)) if(i in month_index_values)])\n",
    "precip_axes.set_xlabel(\"Date\")\n",
    "precip_axes.set_ylabel(\"Maximum Precipitation (in)\")\n",
    "\n",
    "max_precipitation_df"
   ]
  },
  {
   "cell_type": "code",
   "execution_count": 13,
   "metadata": {},
   "outputs": [
    {
     "data": {
      "text/html": [
       "<div>\n",
       "<style scoped>\n",
       "    .dataframe tbody tr th:only-of-type {\n",
       "        vertical-align: middle;\n",
       "    }\n",
       "\n",
       "    .dataframe tbody tr th {\n",
       "        vertical-align: top;\n",
       "    }\n",
       "\n",
       "    .dataframe thead th {\n",
       "        text-align: right;\n",
       "    }\n",
       "</style>\n",
       "<table border=\"1\" class=\"dataframe\">\n",
       "  <thead>\n",
       "    <tr style=\"text-align: right;\">\n",
       "      <th></th>\n",
       "      <th>prcp</th>\n",
       "    </tr>\n",
       "  </thead>\n",
       "  <tbody>\n",
       "    <tr>\n",
       "      <th>count</th>\n",
       "      <td>366.000000</td>\n",
       "    </tr>\n",
       "    <tr>\n",
       "      <th>mean</th>\n",
       "      <td>0.520765</td>\n",
       "    </tr>\n",
       "    <tr>\n",
       "      <th>std</th>\n",
       "      <td>0.830728</td>\n",
       "    </tr>\n",
       "    <tr>\n",
       "      <th>min</th>\n",
       "      <td>0.000000</td>\n",
       "    </tr>\n",
       "    <tr>\n",
       "      <th>25%</th>\n",
       "      <td>0.040000</td>\n",
       "    </tr>\n",
       "    <tr>\n",
       "      <th>50%</th>\n",
       "      <td>0.250000</td>\n",
       "    </tr>\n",
       "    <tr>\n",
       "      <th>75%</th>\n",
       "      <td>0.672500</td>\n",
       "    </tr>\n",
       "    <tr>\n",
       "      <th>max</th>\n",
       "      <td>6.700000</td>\n",
       "    </tr>\n",
       "  </tbody>\n",
       "</table>\n",
       "</div>"
      ],
      "text/plain": [
       "             prcp\n",
       "count  366.000000\n",
       "mean     0.520765\n",
       "std      0.830728\n",
       "min      0.000000\n",
       "25%      0.040000\n",
       "50%      0.250000\n",
       "75%      0.672500\n",
       "max      6.700000"
      ]
     },
     "execution_count": 13,
     "metadata": {},
     "output_type": "execute_result"
    }
   ],
   "source": [
    "# Use Pandas to calculate the summary statistics for the precipitation data\n",
    "max_precipitation_df.describe()"
   ]
  },
  {
   "cell_type": "code",
   "execution_count": 14,
   "metadata": {},
   "outputs": [
    {
     "data": {
      "text/plain": [
       "9"
      ]
     },
     "execution_count": 14,
     "metadata": {},
     "output_type": "execute_result"
    }
   ],
   "source": [
    "# Design a query to show how many stations are available in this dataset?\n",
    "num_stations = session.query(Station).distinct(Station.station).group_by(Station.station).count()\n",
    "num_stations"
   ]
  },
  {
   "cell_type": "code",
   "execution_count": 15,
   "metadata": {},
   "outputs": [
    {
     "name": "stdout",
     "output_type": "stream",
     "text": [
      "('WAIHEE 837.5, HI US', 'USC00519281', 2772)\n",
      "('WAIKIKI 717.2, HI US', 'USC00519397', 2724)\n",
      "('KANEOHE 838.1, HI US', 'USC00513117', 2709)\n",
      "('WAIMANALO EXPERIMENTAL FARM, HI US', 'USC00519523', 2669)\n",
      "('MANOA LYON ARBO 785.2, HI US', 'USC00516128', 2612)\n",
      "('KUALOA RANCH HEADQUARTERS 886.9, HI US', 'USC00514830', 2202)\n",
      "('HONOLULU OBSERVATORY 702.2, HI US', 'USC00511918', 1979)\n",
      "('PEARL CITY, HI US', 'USC00517948', 1372)\n",
      "('UPPER WAHIAWA 874.3, HI US', 'USC00518838', 511)\n"
     ]
    }
   ],
   "source": [
    "# What are the most active stations? (i.e. what stations have the most rows)?\n",
    "# List the stations and the counts in descending order.\n",
    "station_sample_counts = session.query(Station.name, Measurement.station, func.count(Measurement.id)).\\\n",
    "                        filter(Station.station == Measurement.station).\\\n",
    "                        group_by(Measurement.station).order_by(func.count(Measurement.id).desc())\n",
    "for item in station_sample_counts:\n",
    "    print(item)"
   ]
  },
  {
   "cell_type": "code",
   "execution_count": 23,
   "metadata": {},
   "outputs": [
    {
     "name": "stdout",
     "output_type": "stream",
     "text": [
      "The most active station  is named 'WAIHEE 837.5, HI US', and has a station id of 'USC00519281'\n",
      "First 10 values:\n",
      "(54.0,) (56.0,) (56.0,) (56.0,) (56.0,) (57.0,) (57.0,) (57.0,) (57.0,) (57.0,)\n",
      "\n",
      "The count of temperatures measurements for the most active station match the total number of measurements!\n",
      "Good work!\n",
      "There are only length 1 tuples in the output array!\n",
      "\n",
      "The lowest temperature recorded at this station was 54.0 F\n",
      "\n",
      "The highest temperature recorded at this station was 85.0 F\n",
      "The average temperature calculated from measurements a this station is 71.7 F\n",
      "--------------------------------------------------\n",
      "Validating Temperature Results:\n",
      "The minimum temperature of 54.0 F was validated using a direct computation on a query!\n",
      "The maximum temperature of 85.0 F was validated using a direct computation on a query!\n",
      "The average temperature of 71.7 F was validated using a direct computation on a query!\n"
     ]
    }
   ],
   "source": [
    "# Using the station id from the previous query, calculate the lowest temperature recorded, \n",
    "# highest temperature recorded, and average temperature of the most active station?\n",
    "\n",
    "print(\"The most active station  is named 'WAIHEE 837.5, HI US', and has a station id of 'USC00519281'\")\n",
    "#first, get all temperature measurements for that station\n",
    "all_temps_most_active_station = session.query(Measurement.tobs).filter(Measurement.station == \"USC00519281\").order_by(Measurement.tobs).all()\n",
    "\n",
    "print(\"First 10 values:\")\n",
    "print(*[all_temps_most_active_station[a] for a in range(10)])\n",
    "print(\"\")\n",
    "\n",
    "#check that the count of the Waihee station matches the count given above\n",
    "if(len(all_temps_most_active_station)==2772):\n",
    "    print(\"The count of temperatures measurements for the most active station match the total number of measurements!\")\n",
    "    print(\"Good work!\")\n",
    "else:\n",
    "    print(\"The count of temperatures measurements for the most active station DO NOT match the total number of measurements!\")\n",
    "    print(\"Check your work!\")\n",
    "\n",
    "# unpack all the tuples that have one values to the same list so that it can be used in calculations directly!\n",
    "# first check that all values in the output are length 1:\n",
    "if all([len(a)==1 for a in all_temps_most_active_station]): print(\"There are only length 1 tuples in the output array!\") \n",
    "\n",
    "#so we know there is only one element and can access that element to unpack the output list\n",
    "all_temps_most_active_station = [a[0] for a in all_temps_most_active_station]\n",
    "\n",
    "#the lowest temperature recorded is the minimum of the values, and they are ordered by ascending temperature values\n",
    "print(\"\")\n",
    "print(\"The lowest temperature recorded at this station was {} F\".format(all_temps_most_active_station[0]))\n",
    "\n",
    "#the highest temperature recorded is the maximum of the values, and they are ordered by ascending temperature values\n",
    "print(\"\")\n",
    "print(\"The highest temperature recorded at this station was {} F\".format(all_temps_most_active_station[-1]))\n",
    "\n",
    "#to get the overall average temperature of the most active station, find the average of all the values\n",
    "print(\"The average temperature calculated from measurements a this station is {:.1f} F\".\\\n",
    "      format(sum(all_temps_most_active_station)/len(all_temps_most_active_station)))\n",
    "\n",
    "#confirm that these calculated values match values given directly from applying functions to the SQLAlchemy queries\n",
    "min_temp_sql = session.query(func.min(Measurement.tobs)).\\\n",
    "                filter(Measurement.station == \"USC00519281\").order_by(Measurement.tobs).first()\n",
    "\n",
    "max_temp_sql = session.query(func.max(Measurement.tobs)).\\\n",
    "                filter(Measurement.station == \"USC00519281\").order_by(Measurement.tobs).first()\n",
    "\n",
    "avg_temp_sql = session.query(func.avg(Measurement.tobs)).\\\n",
    "                filter(Measurement.station == \"USC00519281\").order_by(Measurement.tobs).first()\n",
    "\n",
    "print(\"-\"*50)\n",
    "print(\"Validating Temperature Results:\")\n",
    "\n",
    "def checkResults(result1, result2, calc_type):\n",
    "    if(result1==result2):\n",
    "        print(\"The {} temperature of {:.1f} F was validated using a direct computation on a query!\".format(calc_type, result1))\n",
    "    else:\n",
    "        print(\"There is likely an error in the minimum temperature computation - the query computation does not match the \"+\n",
    "             \"previous result.\")\n",
    "        \n",
    "checkResults(min_temp_sql[0], all_temps_most_active_station[0], \"minimum\")\n",
    "checkResults(max_temp_sql[0], all_temps_most_active_station[-1], \"maximum\")\n",
    "checkResults(avg_temp_sql[0], sum(all_temps_most_active_station)/len(all_temps_most_active_station), \"average\")"
   ]
  },
  {
   "cell_type": "code",
   "execution_count": 17,
   "metadata": {},
   "outputs": [
    {
     "name": "stdout",
     "output_type": "stream",
     "text": [
      "There were 352 measurements for the most active station (WAIHEE) in the last year, from 2016-08-23 to 2017-08-23!\n"
     ]
    },
    {
     "data": {
      "text/plain": [
       "Text(0, 0.5, 'Count of Measurements')"
      ]
     },
     "execution_count": 17,
     "metadata": {},
     "output_type": "execute_result"
    },
    {
     "data": {
      "image/png": "[encoded data removed]",
      "text/plain": [
       "<Figure size 432x288 with 1 Axes>"
      ]
     },
     "metadata": {},
     "output_type": "display_data"
    }
   ],
   "source": [
    "# Choose the station with the highest number of temperature observations.\n",
    "# Query the last 12 months of temperature observation data for this station and plot the results as a histogram\n",
    "last_year_temp_for_most_active_station = session.query(Measurement.tobs).filter(Measurement.station == 'USC00519281').\\\n",
    "                                        filter(Measurement.date >= '2016-08-23').order_by(Measurement.date).all()\n",
    "print(\"There were {} measurements for the most active station (WAIHEE) in the last year, from 2016-08-23 to 2017-08-23!\"\n",
    "      .format(len(last_year_temp_for_most_active_station)))\n",
    "\n",
    "last_year_df = pd.DataFrame(last_year_temp_for_most_active_station)\n",
    "hist_axes = last_year_df.hist(bins=12)[0][0]\n",
    "\n",
    "hist_axes.set_title(\"Count of Temperature Measurements at WAIHEE station vs. Temperature (F)\")\n",
    "hist_axes.set_xlim(55, 85)\n",
    "hist_axes.set_xlabel(\"Temperature (F)\")\n",
    "hist_axes.set_ylabel(\"Count of Measurements\")"
   ]
  },
  {
   "cell_type": "markdown",
   "metadata": {},
   "source": [
    "## Bonus Challenge Assignment"
   ]
  },
  {
   "cell_type": "markdown",
   "metadata": {},
   "source": [
    "### Temperature Analysis I\n",
    "* Determine if there is a significant difference in temperature between June and December"
   ]
  },
  {
   "cell_type": "code",
   "execution_count": 37,
   "metadata": {},
   "outputs": [
    {
     "name": "stdout",
     "output_type": "stream",
     "text": [
      "           tobs\n",
      "year           \n",
      "2010  74.925620\n",
      "2011  73.938326\n",
      "2012  74.000000\n",
      "2013  74.599078\n",
      "2014  75.027907\n",
      "2015  74.990148\n",
      "2016  75.175258\n",
      "2017  77.219895            tobs\n",
      "year           \n",
      "2010  70.208511\n",
      "2011  70.820628\n",
      "2012  71.188073\n",
      "2013  71.094017\n",
      "2014  69.896861\n",
      "2015  73.423913\n",
      "2016  71.130000\n",
      "\n",
      "The unpaired t-test p-value is 9.681543069110451e-06 and is less than 0.05, so the results are significant and there is a meaningful difference in the temperatures between June and December, suggesting some seasonal change.\n"
     ]
    }
   ],
   "source": [
    "from scipy.stats import ttest_ind\n",
    "\n",
    "all_junes = session.query(Measurement.date, Measurement.tobs).filter(func.strftime(\"%m\", Measurement.date) == \"06\").all()\n",
    "all_dec = session.query(Measurement.date, Measurement.tobs).filter(func.strftime(\"%m\", Measurement.date) == \"12\").all()\n",
    "\n",
    "#get june average temperatures for each year\n",
    "all_june_df = pd.DataFrame(all_junes)\n",
    "all_june_df = all_june_df.dropna()\n",
    "all_june_df.date = pd.to_datetime(all_june_df.date)\n",
    "all_june_df[\"year\"] = all_june_df[\"date\"].apply(lambda x: x.year)\n",
    "june_avg = all_june_df.groupby(\"year\").mean()\n",
    "\n",
    "#get december average temperatures for each year\n",
    "all_dec_df = pd.DataFrame(all_dec)\n",
    "all_dec_df = all_dec_df.dropna()\n",
    "all_dec_df.date = pd.to_datetime(all_dec_df.date)\n",
    "all_dec_df[\"year\"] = all_dec_df[\"date\"].apply(lambda x: x.year)\n",
    "dec_avg = all_dec_df.groupby(\"year\").mean()\n",
    "\n",
    "print(june_avg, dec_avg)\n",
    "print(\"\")\n",
    "\n",
    "#use an unpaired (independent) t-test to determine if the temperature differences are significant\n",
    "(t_val, p_val) = ttest_ind(june_avg[\"tobs\"], dec_avg[\"tobs\"])\n",
    "if(p_val<0.05):\n",
    "    print(f\"The unpaired t-test p-value is {p_val} and is less than 0.05, so the results are significant and there is a meaningful difference in the \"+\n",
    "         \"temperatures between June and December, suggesting some seasonal change.\")\n",
    "else:\n",
    "    print(f\"The unpaired t-test p-value is {p_val} and is greater than 0.05, so the results are not significant and there is no meaningful difference in the \"+\n",
    "         \"temperatures between June and December, suggesting no seasonal change.\")"
   ]
  },
  {
   "cell_type": "markdown",
   "metadata": {},
   "source": [
    "### Temperature Analysis II\n",
    "* Bar plot of average, min, and max temperatures over vacation date range (02-12 to 02-15)"
   ]
  },
  {
   "cell_type": "code",
   "execution_count": 39,
   "metadata": {},
   "outputs": [
    {
     "name": "stdout",
     "output_type": "stream",
     "text": [
      "[(62.0, 69.57142857142857, 74.0)]\n"
     ]
    }
   ],
   "source": [
    "# This function called `calc_temps` will accept start date and end date in the format '%Y-%m-%d' \n",
    "# and return the minimum, average, and maximum temperatures for that range of dates\n",
    "def calc_temps(start_date, end_date):\n",
    "    \"\"\"TMIN, TAVG, and TMAX for a list of dates.\n",
    "    \n",
    "    Args:\n",
    "        start_date (string): A date string in the format %Y-%m-%d\n",
    "        end_date (string): A date string in the format %Y-%m-%d\n",
    "        \n",
    "    Returns:\n",
    "        TMIN, TAVE, and TMAX\n",
    "    \"\"\"\n",
    "    \n",
    "    return session.query(func.min(Measurement.tobs), func.avg(Measurement.tobs), func.max(Measurement.tobs)).\\\n",
    "        filter(Measurement.date >= start_date).filter(Measurement.date <= end_date).all()\n",
    "\n",
    "# function usage example\n",
    "print(calc_temps('2012-02-28', '2012-03-05'))"
   ]
  },
  {
   "cell_type": "code",
   "execution_count": 79,
   "metadata": {},
   "outputs": [
    {
     "name": "stdout",
     "output_type": "stream",
     "text": [
      "65.0 73.84615384615384 80.0\n"
     ]
    },
    {
     "data": {
      "text/html": [
       "<div>\n",
       "<style scoped>\n",
       "    .dataframe tbody tr th:only-of-type {\n",
       "        vertical-align: middle;\n",
       "    }\n",
       "\n",
       "    .dataframe tbody tr th {\n",
       "        vertical-align: top;\n",
       "    }\n",
       "\n",
       "    .dataframe thead th {\n",
       "        text-align: right;\n",
       "    }\n",
       "</style>\n",
       "<table border=\"1\" class=\"dataframe\">\n",
       "  <thead>\n",
       "    <tr style=\"text-align: right;\">\n",
       "      <th></th>\n",
       "      <th>Temp (F)</th>\n",
       "    </tr>\n",
       "  </thead>\n",
       "  <tbody>\n",
       "    <tr>\n",
       "      <th>0</th>\n",
       "      <td>73.846154</td>\n",
       "    </tr>\n",
       "  </tbody>\n",
       "</table>\n",
       "</div>"
      ],
      "text/plain": [
       "    Temp (F)\n",
       "0  73.846154"
      ]
     },
     "execution_count": 79,
     "metadata": {},
     "output_type": "execute_result"
    }
   ],
   "source": [
    "# Use your previous function `calc_temps` to calculate the tmin, tavg, and tmax \n",
    "# for your trip using the previous year's data for those same dates.\n",
    "\n",
    "#pretend trip was 2018 or later, so use the 2017 data as the \"last year\" before the trip\n",
    "\n",
    "(min_T, avg_T, max_T) = (calc_temps(\"2017-02-12\", \"2017-02-15\")[0])\n",
    "avg_T_df = pd.DataFrame({\"Temp (F)\":[avg_T]})\n",
    "print(min_T, avg_T, max_T)\n",
    "avg_T_df"
   ]
  },
  {
   "cell_type": "code",
   "execution_count": 80,
   "metadata": {},
   "outputs": [
    {
     "data": {
      "text/plain": [
       "[]"
      ]
     },
     "execution_count": 80,
     "metadata": {},
     "output_type": "execute_result"
    },
    {
     "data": {
      "image/png": "[encoded data removed]",
      "text/plain": [
       "<Figure size 432x288 with 1 Axes>"
      ]
     },
     "metadata": {},
     "output_type": "display_data"
    }
   ],
   "source": [
    "# Plot the results from your previous query as a bar chart. \n",
    "# Use \"Trip Avg Temp\" as your Title\n",
    "# Use the average temperature for the y value\n",
    "# Use the peak-to-peak (tmax-tmin) value as the y error bar (yerr)\n",
    "temp_axes = avg_T_df.plot(kind=\"bar\", yerr=[[[avg_T-min_T], [max_T-avg_T]]], legend=False, title=\"Trip Avg Temp\")\n",
    "temp_axes.set_ylabel(\"Temp (F)\")\n",
    "temp_axes.set_xticklabels(\"\")"
   ]
  },
  {
   "cell_type": "markdown",
   "metadata": {},
   "source": [
    "### Daily Temperature Average Normals\n",
    "* Shows the daily temperatures during trip duration"
   ]
  },
  {
   "cell_type": "code",
   "execution_count": null,
   "metadata": {},
   "outputs": [],
   "source": [
    "# Calculate the total amount of rainfall per weather station for your trip dates using the previous year's matching dates.\n",
    "# Sort this in descending order by precipitation amount and list the station, name, latitude, longitude, and elevation\n",
    "\n"
   ]
  },
  {
   "cell_type": "code",
   "execution_count": 81,
   "metadata": {},
   "outputs": [
    {
     "data": {
      "text/plain": [
       "[(62.0, 69.15384615384616, 77.0)]"
      ]
     },
     "execution_count": 81,
     "metadata": {},
     "output_type": "execute_result"
    }
   ],
   "source": [
    "# Create a query that will calculate the daily normals \n",
    "# (i.e. the averages for tmin, tmax, and tavg for all historic data matching a specific month and day)\n",
    "\n",
    "def daily_normals(date):\n",
    "    \"\"\"Daily Normals.\n",
    "    \n",
    "    Args:\n",
    "        date (str): A date string in the format '%m-%d'\n",
    "        \n",
    "    Returns:\n",
    "        A list of tuples containing the daily normals, tmin, tavg, and tmax\n",
    "    \n",
    "    \"\"\"\n",
    "    \n",
    "    sel = [func.min(Measurement.tobs), func.avg(Measurement.tobs), func.max(Measurement.tobs)]\n",
    "    return session.query(*sel).filter(func.strftime(\"%m-%d\", Measurement.date) == date).all()\n",
    "    \n",
    "daily_normals(\"01-01\")"
   ]
  },
  {
   "cell_type": "code",
   "execution_count": 89,
   "metadata": {},
   "outputs": [
    {
     "data": {
      "text/plain": [
       "[(60.0, 69.15789473684211, 78.0),\n",
       " (58.0, 70.36206896551724, 80.0),\n",
       " (62.0, 70.89473684210526, 79.0),\n",
       " (56.0, 70.28813559322033, 79.0)]"
      ]
     },
     "execution_count": 89,
     "metadata": {},
     "output_type": "execute_result"
    }
   ],
   "source": [
    "# calculate the daily normals for your trip\n",
    "# push each tuple of calculations into a list called `normals`\n",
    "\n",
    "# Set the start and end date of the trip\n",
    "start_date = dt.datetime(2017, 2, 12)\n",
    "end_date = dt.datetime(2017, 2, 15)\n",
    "\n",
    "# Use the start and end date to create a range of dates\n",
    "change_day = dt.timedelta(days=1)\n",
    "curr_day = start_date\n",
    "trip_dates = []\n",
    "while(curr_day <= end_date):\n",
    "    trip_dates.append(curr_day)\n",
    "    curr_day += change_day\n",
    "\n",
    "# Strip off the year and save a list of %m-%d strings\n",
    "stripped_trip_dates = list(map(lambda x: x.strftime(\"%m-%d\"), trip_dates))\n",
    "\n",
    "# Loop through the list of %m-%d strings and calculate the normals for each date\n",
    "normals = [daily_normals(day)[0] for day in stripped_trip_dates]\n",
    "normals"
   ]
  },
  {
   "cell_type": "code",
   "execution_count": 90,
   "metadata": {},
   "outputs": [
    {
     "data": {
      "text/html": [
       "<div>\n",
       "<style scoped>\n",
       "    .dataframe tbody tr th:only-of-type {\n",
       "        vertical-align: middle;\n",
       "    }\n",
       "\n",
       "    .dataframe tbody tr th {\n",
       "        vertical-align: top;\n",
       "    }\n",
       "\n",
       "    .dataframe thead th {\n",
       "        text-align: right;\n",
       "    }\n",
       "</style>\n",
       "<table border=\"1\" class=\"dataframe\">\n",
       "  <thead>\n",
       "    <tr style=\"text-align: right;\">\n",
       "      <th></th>\n",
       "      <th>Min Temp (F)</th>\n",
       "      <th>Avg Temp (F)</th>\n",
       "      <th>Max Temp (F)</th>\n",
       "    </tr>\n",
       "  </thead>\n",
       "  <tbody>\n",
       "    <tr>\n",
       "      <th>2017-02-12</th>\n",
       "      <td>60.0</td>\n",
       "      <td>69.157895</td>\n",
       "      <td>78.0</td>\n",
       "    </tr>\n",
       "    <tr>\n",
       "      <th>2017-02-13</th>\n",
       "      <td>58.0</td>\n",
       "      <td>70.362069</td>\n",
       "      <td>80.0</td>\n",
       "    </tr>\n",
       "    <tr>\n",
       "      <th>2017-02-14</th>\n",
       "      <td>62.0</td>\n",
       "      <td>70.894737</td>\n",
       "      <td>79.0</td>\n",
       "    </tr>\n",
       "    <tr>\n",
       "      <th>2017-02-15</th>\n",
       "      <td>56.0</td>\n",
       "      <td>70.288136</td>\n",
       "      <td>79.0</td>\n",
       "    </tr>\n",
       "  </tbody>\n",
       "</table>\n",
       "</div>"
      ],
      "text/plain": [
       "            Min Temp (F)  Avg Temp (F)  Max Temp (F)\n",
       "2017-02-12          60.0     69.157895          78.0\n",
       "2017-02-13          58.0     70.362069          80.0\n",
       "2017-02-14          62.0     70.894737          79.0\n",
       "2017-02-15          56.0     70.288136          79.0"
      ]
     },
     "execution_count": 90,
     "metadata": {},
     "output_type": "execute_result"
    }
   ],
   "source": [
    "# Load the previous query results into a Pandas DataFrame and add the `trip_dates` range as the `date` index\n",
    "normals_results = pd.DataFrame({\"Min Temp (F)\":[a[0] for a in normals],\n",
    "                               \"Avg Temp (F)\":[a[1] for a in normals],\n",
    "                               \"Max Temp (F)\":[a[2] for a in normals]}, index=trip_dates)\n",
    "normals_results"
   ]
  },
  {
   "cell_type": "code",
   "execution_count": 106,
   "metadata": {},
   "outputs": [
    {
     "data": {
      "text/plain": [
       "(0.0, 85)"
      ]
     },
     "execution_count": 106,
     "metadata": {},
     "output_type": "execute_result"
    },
    {
     "data": {
      "image/png": "[encoded data removed]",
      "text/plain": [
       "<Figure size 432x288 with 1 Axes>"
      ]
     },
     "metadata": {},
     "output_type": "display_data"
    }
   ],
   "source": [
    "# Plot the daily normals as an area plot with `stacked=False`\n",
    "normals_axes = normals_results.plot(kind=\"area\", stacked=False, title=\"Daily Temperature During Trip\")\n",
    "normals_axes.set_ylabel(\"Temperature (F)\")\n",
    "normals_axes.set_xlabel(\"Date\")\n",
    "normals_axes.set_ylim(top=85)"
   ]
  },
  {
   "cell_type": "code",
   "execution_count": null,
   "metadata": {},
   "outputs": [],
   "source": []
  }
 ],
 "metadata": {
  "kernel_info": {
   "name": "python3"
  },
  "kernelspec": {
   "display_name": "Python 3",
   "language": "python",
   "name": "python3"
  },
  "language_info": {
   "codemirror_mode": {
    "name": "ipython",
    "version": 3
   },
   "file_extension": ".py",
   "mimetype": "text/x-python",
   "name": "python",
   "nbconvert_exporter": "python",
   "pygments_lexer": "ipython3",
   "version": "3.7.6"
  },
  "nteract": {
   "version": "0.12.3"
  },
  "varInspector": {
   "cols": {
    "lenName": 16,
    "lenType": 16,
    "lenVar": 40
   },
   "kernels_config": {
    "python": {
     "delete_cmd_postfix": "",
     "delete_cmd_prefix": "del ",
     "library": "var_list.py",
     "varRefreshCmd": "print(var_dic_list())"
    },
    "r": {
     "delete_cmd_postfix": ") ",
     "delete_cmd_prefix": "rm(",
     "library": "var_list.r",
     "varRefreshCmd": "cat(var_dic_list()) "
    }
   },
   "types_to_exclude": [
    "module",
    "function",
    "builtin_function_or_method",
    "instance",
    "_Feature"
   ],
   "window_display": false
  }
 },
 "nbformat": 4,
 "nbformat_minor": 2
}
